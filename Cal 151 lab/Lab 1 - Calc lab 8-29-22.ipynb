{
 "cells": [
  {
   "cell_type": "markdown",
   "id": "68a44cfd",
   "metadata": {},
   "source": [
    "## MATH 151 Lab  1"
   ]
  },
  {
   "cell_type": "markdown",
   "id": "98e45d53",
   "metadata": {},
   "source": [
    "### Lab group: Hudson Hurtig, Carson Kjar, Ashton Hull, Jax Lanier.\n",
    "### Section 522"
   ]
  },
  {
   "cell_type": "code",
   "execution_count": 2,
   "id": "3dd3601f",
   "metadata": {},
   "outputs": [],
   "source": [
    "from sympy import *"
   ]
  },
  {
   "cell_type": "markdown",
   "id": "08815a4e",
   "metadata": {},
   "source": [
    "### 1.a"
   ]
  },
  {
   "cell_type": "code",
   "execution_count": 3,
   "id": "8987d6aa",
   "metadata": {},
   "outputs": [
    {
     "name": "stdout",
     "output_type": "stream",
     "text": [
      "5.29251613828432\n"
     ]
    }
   ],
   "source": [
    "print((79 * (exp(1.29) + pow(11.1,2)))/(2026-pow(5.1,3)))"
   ]
  },
  {
   "cell_type": "markdown",
   "id": "b05aef58",
   "metadata": {},
   "source": [
    "### 1.b"
   ]
  },
  {
   "cell_type": "code",
   "execution_count": null,
   "id": "15eb4e6b",
   "metadata": {},
   "outputs": [],
   "source": [
    "print(\"Exact form:\", (cos((11*pi)/12) * sec(75 * (pi/180))) + tan((7*pi)/12))\n",
    "print(\"Approximate form:\", (cos((11*pi)/12).evalf() * sec(75 * (pi/180))).evalf() + tan((7*pi)/12).evalf())"
   ]
  },
  {
   "cell_type": "markdown",
   "id": "6ce0c1a9",
   "metadata": {},
   "source": [
    "### 2.a & 2.b"
   ]
  },
  {
   "cell_type": "code",
   "execution_count": 5,
   "id": "d783b9d3",
   "metadata": {
    "scrolled": true
   },
   "outputs": [
    {
     "name": "stdout",
     "output_type": "stream",
     "text": [
      "Evaluate F(x) where x is: -10\n",
      "\n",
      "    Approximate form of F( -10.0 ): -0.816496580927726\n",
      "\n",
      "\n",
      "Evaluate F(x) where x is: -100\n",
      "\n",
      "    Approximate form of F( -100.0 ): -0.980196058819607\n",
      "\n",
      "\n",
      "Evaluate F(x) where x is: -1000000\n",
      "\n",
      "    Approximate form of F( -1000000.0 ): -0.999998000002000\n",
      "\n",
      "\n",
      "Evaluate F(x) where x is: 2.01\n",
      "\n",
      "    Approximate form of F( 2.01 ): 20.0249843945009\n",
      "\n",
      "\n",
      "Evaluate F(x) where x is: 2.0001\n",
      "\n",
      "    Approximate form of F( 2.0001 ): 200.002499984149\n",
      "\n",
      "\n",
      "Evaluate F(x) where x is: 2.000001\n",
      "\n",
      "    Approximate form of F( 2.000001 ): 2000.00024988243\n",
      "\n",
      "\n"
     ]
    }
   ],
   "source": [
    "for i in range(0,6):    \n",
    "    x = input('''Evaluate F(x) where x is: ''')\n",
    "    x = float(x)\n",
    "    print(\"\\n    Approximate form of F(\",x,\"):\", (sqrt(pow(x,2) - 4)/(x-2)).evalf())\n",
    "    print(\"\\n\")"
   ]
  },
  {
   "cell_type": "markdown",
   "id": "6a19106b",
   "metadata": {},
   "source": [
    "### 2.c"
   ]
  },
  {
   "cell_type": "code",
   "execution_count": 6,
   "id": "f22de4f4",
   "metadata": {},
   "outputs": [
    {
     "name": "stdout",
     "output_type": "stream",
     "text": [
      "As X approaches negative infinty F(x) approaches -1\n"
     ]
    }
   ],
   "source": [
    "print(\"As X approaches negative infinty F(x) approaches -1\")"
   ]
  },
  {
   "cell_type": "markdown",
   "id": "d4dbc200",
   "metadata": {},
   "source": [
    "### 2.d"
   ]
  },
  {
   "cell_type": "code",
   "execution_count": 7,
   "id": "d83aced1",
   "metadata": {},
   "outputs": [
    {
     "name": "stdout",
     "output_type": "stream",
     "text": [
      "As X approaches 2 from the right F(x) approaches positive infinity\n"
     ]
    }
   ],
   "source": [
    "print(\"As X approaches 2 from the right F(x) approaches positive infinity\")"
   ]
  },
  {
   "cell_type": "markdown",
   "id": "30fc3a35",
   "metadata": {},
   "source": [
    "### 3.a"
   ]
  },
  {
   "cell_type": "code",
   "execution_count": 17,
   "id": "31499690",
   "metadata": {},
   "outputs": [
    {
     "name": "stdout",
     "output_type": "stream",
     "text": [
      "Evaluate the funciton where Velocity is: 130\n",
      "Evaluate the funciton where Alpha is: 26\n",
      "Evaluate the funciton where Height is: 3\n",
      "Evaluate the funciton where Distance is: 409\n",
      "\n",
      " Given the parameters above \n",
      " the height of the object at  409.0  ft \n",
      " from the starting point is: 4.89913379099268 ft\n",
      "\n",
      " Given that the height ball is less\n",
      " than that of the wall at that distance\n",
      " we can conclude that the ball does not make it over the wall.\n"
     ]
    }
   ],
   "source": [
    "v = input('''Evaluate the funciton where Velocity is: ''')\n",
    "a = input('''Evaluate the funciton where Alpha is: ''')\n",
    "h = input('''Evaluate the funciton where Height is: ''')\n",
    "d = input('''Evaluate the funciton where Distance is: ''')\n",
    "\n",
    "v = float(v)\n",
    "a = float(a)\n",
    "h = float(h)\n",
    "d = float(d)\n",
    "\n",
    "a = a * (pi/180)\n",
    "\n",
    "r = (((-16 * pow(d,2))/(pow(v, 2) * pow(cos(a),2))) + (tan(a) * (d + h))).evalf()\n",
    "\n",
    "print(\"\\n Given the parameters above \\n the height of the object at \", d ,\" ft \\n from the starting point is:\", r, \"ft\")\n",
    "\n",
    "if r > 10:\n",
    "    print(\"\\n Given that the height ball is greater\\n than that of the wall at that distance\\n we can conclude that the ball makes it over the wall.\")\n",
    "else:\n",
    "    print(\"\\n Given that the height ball is less\\n than that of the wall at that distance\\n we can conclude that the ball does not make it over the wall.\")\n",
    "\n",
    "\n"
   ]
  },
  {
   "cell_type": "markdown",
   "id": "0f6f10a2",
   "metadata": {},
   "source": [
    "### 3.b"
   ]
  },
  {
   "cell_type": "code",
   "execution_count": 21,
   "id": "ef6fab9c",
   "metadata": {},
   "outputs": [
    {
     "name": "stdout",
     "output_type": "stream",
     "text": [
      "Evaluate the funciton where Velocity is: 24\n",
      "Evaluate the funciton where Alpha is: 54.2\n",
      "Evaluate the funciton where Distance is: 15\n",
      "Given the parameters above the initial height is:  [5.38570834666244]\n"
     ]
    }
   ],
   "source": [
    "from sympy.solvers import solve\n",
    "from sympy import Symbol\n",
    "\n",
    "h = Symbol('h')\n",
    "\n",
    "v = input('''Evaluate the funciton where Velocity is: ''')\n",
    "a = input('''Evaluate the funciton where Alpha is: ''')\n",
    "\n",
    "d = input('''Evaluate the funciton where Distance is: ''')\n",
    "\n",
    "v = float(v)\n",
    "a = float(a)\n",
    "\n",
    "d = float(d)\n",
    "\n",
    "a = a * (pi/180)\n",
    "\n",
    "print(\"Given the parameters above the initial height is: \",solve(((-16 * pow(d,2))/(pow(v, 2) * pow(cos(a),2))) + (tan(a) * (d + h)) - 10, h))\n",
    "\n",
    "\n"
   ]
  }
 ],
 "metadata": {
  "kernelspec": {
   "display_name": "Python 3 (ipykernel)",
   "language": "python",
   "name": "python3"
  },
  "language_info": {
   "codemirror_mode": {
    "name": "ipython",
    "version": 3
   },
   "file_extension": ".py",
   "mimetype": "text/x-python",
   "name": "python",
   "nbconvert_exporter": "python",
   "pygments_lexer": "ipython3",
   "version": "3.9.12"
  }
 },
 "nbformat": 4,
 "nbformat_minor": 5
}
