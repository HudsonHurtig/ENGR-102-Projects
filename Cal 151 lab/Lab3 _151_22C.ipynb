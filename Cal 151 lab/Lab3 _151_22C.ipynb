{
 "cells": [
  {
   "cell_type": "markdown",
   "id": "20c00fa5",
   "metadata": {},
   "source": [
    "## MATH 151 Lab  3"
   ]
  },
  {
   "cell_type": "markdown",
   "id": "7c243ef1",
   "metadata": {},
   "source": [
    "Put team members' names and section number here."
   ]
  },
  {
   "cell_type": "code",
   "execution_count": 26,
   "id": "cf836732",
   "metadata": {},
   "outputs": [],
   "source": [
    "from sympy import *\n",
    "from sympy.solvers import solve\n",
    "from sympy import Symbol, N\n",
    "from sympy.plotting import (plot,plot_parametric)"
   ]
  },
  {
   "cell_type": "markdown",
   "id": "3169990f",
   "metadata": {},
   "source": [
    "### Question 1"
   ]
  },
  {
   "cell_type": "code",
   "execution_count": 27,
   "id": "b1fc832a",
   "metadata": {},
   "outputs": [
    {
     "data": {
      "image/png": "[encoded data removed]",
      "text/plain": [
       "<Figure size 432x288 with 1 Axes>"
      ]
     },
     "metadata": {
      "needs_background": "light"
     },
     "output_type": "display_data"
    },
    {
     "name": "stdout",
     "output_type": "stream",
     "text": [
      "observe that there are no holes gaps or spaces along the interval [0,1] for f(x)\n",
      "therefore f(x) satisfys IVT over the interval [0,1]\n"
     ]
    }
   ],
   "source": [
    "#conditions of IVT\n",
    "\n",
    "x = Symbol('x')\n",
    "f = pow(x,5)+4*pow(x,3)-2*pow(x,2)+8*x-1\n",
    "\n",
    "# interval = [0,1]\n",
    "# print(f\"F({interval[0]}) = {f.evalf(interval[0])}\")\n",
    "# #num of values to itterate through\n",
    "\n",
    "plot(f,(x,0,1))\n",
    "\n",
    "print(\"observe that there are no holes gaps or spaces along the interval [0,1] for f(x)\")\n",
    "print(\"therefore f(x) satisfys IVT over the interval [0,1]\")\n"
   ]
  },
  {
   "cell_type": "markdown",
   "id": "f0561a86",
   "metadata": {},
   "source": [
    "#### 1a"
   ]
  },
  {
   "cell_type": "code",
   "execution_count": 28,
   "id": "0889599a",
   "metadata": {},
   "outputs": [
    {
     "name": "stdout",
     "output_type": "stream",
     "text": [
      "f(0) = -1\n",
      "f(1) = 10\n",
      "0 is between f(0), f(1)\n",
      "IVT is statistfied over the interval [0,1]\n",
      "ergo a root exists\n"
     ]
    }
   ],
   "source": [
    "#result of IVT\n",
    "\n",
    "x = Symbol('x')\n",
    "f = pow(x,5)+4*pow(x,3)-2*pow(x,2)+8*x-1\n",
    "\n",
    "def find_val(function, val):\n",
    "    return function.subs(x, val)\n",
    "\n",
    "interval = [0,1]\n",
    "\n",
    "f0 = find_val(f,interval[0])\n",
    "f1 = find_val(f,interval[-1])\n",
    "\n",
    "print(\"f(0) =\",f0)\n",
    "print(\"f(1) =\",f1)\n",
    "\n",
    "if f0 < 0 and f1 > 0 or -f0 < 0 and -f1 > 0:\n",
    "    print(\"0 is between f(0), f(1)\")\n",
    "    print(f\"IVT is statistfied over the interval [{interval[0]},{interval[-1]}]\")\n",
    "    print(\"ergo a root exists\")\n",
    "else:\n",
    "    print(\"0 is not between f(0), f(1)\")\n",
    "    print(f\"IVT is not statistfied over the interval [{interval[0]},{interval[-1]}]\")\n",
    "    print(\"ergo a root doest exist\")\n"
   ]
  },
  {
   "cell_type": "markdown",
   "id": "efdd616f",
   "metadata": {},
   "source": [
    "#### 1b"
   ]
  },
  {
   "cell_type": "code",
   "execution_count": 29,
   "id": "582449e5",
   "metadata": {},
   "outputs": [
    {
     "name": "stdout",
     "output_type": "stream",
     "text": [
      "IVT is statistfied over the interval [0,1]\n",
      "ergo a root exists\n",
      "the root over the interval [0,1] for f(x) if x = 0.128044891411745\n"
     ]
    }
   ],
   "source": [
    "#root\n",
    "\n",
    "x = Symbol('x')\n",
    "f = pow(x,5)+4*pow(x,3)-2*pow(x,2)+8*x-1\n",
    "\n",
    "\n",
    "\n",
    "interval = [0,1]\n",
    "\n",
    "\n",
    "print(f\"IVT is statistfied over the interval [{interval[0]},{interval[-1]}]\")\n",
    "print(\"ergo a root exists\")\n",
    "print(f\"the root over the interval [{interval[0]},{interval[-1]}] for f(x) if x =\", N(solve(f,x)[0]))\n",
    "\n",
    "\n",
    "\n"
   ]
  },
  {
   "cell_type": "markdown",
   "id": "8b00f000",
   "metadata": {},
   "source": [
    "### Question 2"
   ]
  },
  {
   "cell_type": "markdown",
   "id": "bacdc1db",
   "metadata": {},
   "source": [
    "#### 2a"
   ]
  },
  {
   "cell_type": "code",
   "execution_count": 31,
   "id": "be2f2c71",
   "metadata": {},
   "outputs": [
    {
     "name": "stdout",
     "output_type": "stream",
     "text": [
      "at the first potential break point of F(x), where x = 3:\n",
      "the equation from the left: 2*x - 3, has a limit of 3\n",
      "the equation from the right: -x**2 + 4*x, has a limit of 3\n",
      "since the limits of 2*x - 3 and -x**2 + 4*x are equal, we know up to this point F(x) is continuous\n",
      "\n",
      "\n",
      "at the first potential break point of F(x), where x = 4:\n",
      "the equation from the left: -x**2 + 4*x, has a limit of 0\n",
      "the equation from the right: (x**2 - 6*x + 8)/(x - 4), has a limit of 2\n",
      "since the limits of -x**2 + 4*x and (x**2 - 6*x + 8)/(x - 4) are not equal, we that F(x) has a break point at x = 4\n",
      "given that the limit of F(X) from the left is equal to F(X) at x = 4\n",
      "F(x) is left side continuous\n",
      "\n",
      "\n",
      "at the first potential break point of F(x), where x = 5:\n",
      "the equation from the left: (x**2 - 6*x + 8)/(x - 4), has a limit of 3\n",
      "the equation from the right: exp((x - 4)*log(3)), has a limit of 3\n",
      "since the limits of (x**2 - 6*x + 8)/(x - 4) and exp((x - 4)*log(3)) are equal, we know up to this point F(x) is continuous\n",
      "\n",
      "\n"
     ]
    }
   ],
   "source": [
    "#limits\n",
    "\n",
    "x = Symbol('x')\n",
    "\n",
    "f = 0\n",
    "\n",
    "\n",
    "eqs = [2*x-3, 4*x - x**2, (x**2-6*x + 8)/(x-4), exp((x-4)*ln(3))]\n",
    "\n",
    "nums = [3,4,5]\n",
    "\n",
    "def eq(val):\n",
    "    if val >= 0 and val <= 3:\n",
    "        f = 2*x-3\n",
    "    elif val > 3 and val <= 4:\n",
    "        f = 4*x - x**2\n",
    "    elif val > 4 and val < 5:\n",
    "        f = (x**2-6*x + 8)/(x-4)\n",
    "    elif val >= 5:\n",
    "        f = exp((x-4)*ln(3))\n",
    "    elif f == 0:\n",
    "        print(\"------------EQUATION DID NOT WORK------------\")\n",
    "\n",
    "    return f.subs(x,val)\n",
    "\n",
    "for i in range(0,3):\n",
    "    \n",
    "    \n",
    "    lim1 = limit(eqs[i],x,nums[i]) \n",
    "    \n",
    "    lim2 = limit(eqs[i+1],x,nums[i])\n",
    "    \n",
    "    print(f\"at the first potential break point of F(x), where x = {nums[i]}:\")\n",
    "    print(f\"the equation from the left: {eqs[i]}, has a limit of {lim1}\")\n",
    "    print(f\"the equation from the right: {eqs[i+1]}, has a limit of {lim2}\")\n",
    "    \n",
    "    if lim1 == lim2:\n",
    "        \n",
    "        print(f\"since the limits of {eqs[i]} and {eqs[i+1]} are equal, we know up to this point F(x) is continuous\")\n",
    "    \n",
    "    else:\n",
    "        \n",
    "        print(f\"since the limits of {eqs[i]} and {eqs[i+1]} are not equal, we that F(x) has a break point at x = {nums[i]}\")\n",
    "        \n",
    "        if eq(nums[i]) == lim1:\n",
    "            print(f\"given that the limit of F(X) from the left is equal to F(X) at x = {nums[i]}\")\n",
    "            print(\"F(x) is left side continuous\")\n",
    "        elif eq(nums[i]) == lim2:\n",
    "            print(f\"given that the limit of F(X) from the right is equal to F(X) at x = {nums[i]}\")\n",
    "            print(\"F(x) is right side continuous\")\n",
    "\n",
    "            \n",
    "    print(\"\\n\")   \n",
    "    \n",
    "    \n",
    "    \n",
    "  \n",
    "\n",
    "\n",
    "\n"
   ]
  },
  {
   "cell_type": "markdown",
   "id": "23bc68a6",
   "metadata": {},
   "source": [
    "#### 2b"
   ]
  },
  {
   "cell_type": "code",
   "execution_count": 32,
   "id": "357bbf0f",
   "metadata": {},
   "outputs": [
    {
     "data": {
      "image/png": "[encoded data removed]",
      "text/plain": [
       "<Figure size 432x288 with 1 Axes>"
      ]
     },
     "metadata": {
      "needs_background": "light"
     },
     "output_type": "display_data"
    },
    {
     "data": {
      "text/plain": [
       "<sympy.plotting.plot.Plot at 0x2bd0c5cdc10>"
      ]
     },
     "execution_count": 32,
     "metadata": {},
     "output_type": "execute_result"
    }
   ],
   "source": [
    "#graph\n",
    "\n",
    "plot((eqs[0],(x,0,3)),(eqs[1],(x,3,4)),(eqs[2],(x,4,5)),(eqs[3],(x,5,6)))"
   ]
  },
  {
   "cell_type": "markdown",
   "id": "1fb8b9b8",
   "metadata": {},
   "source": [
    "### Question 3"
   ]
  },
  {
   "cell_type": "markdown",
   "id": "ccffd0d0",
   "metadata": {},
   "source": [
    "#### 3a"
   ]
  },
  {
   "cell_type": "code",
   "execution_count": 33,
   "id": "9ebb9309",
   "metadata": {},
   "outputs": [
    {
     "data": {
      "image/png": "[encoded data removed]",
      "text/plain": [
       "<Figure size 432x288 with 1 Axes>"
      ]
     },
     "metadata": {
      "needs_background": "light"
     },
     "output_type": "display_data"
    },
    {
     "data": {
      "text/plain": [
       "<sympy.plotting.plot.Plot at 0x2bd0c5b1b20>"
      ]
     },
     "execution_count": 33,
     "metadata": {},
     "output_type": "execute_result"
    }
   ],
   "source": [
    "#graph\n",
    "\n",
    "P0 = 10\n",
    "t = Symbol('t')\n",
    "r = .1\n",
    "K = 1000\n",
    "\n",
    "Pop = (P0*K)/((P0+(K-P0)*exp(-r*t)))\n",
    "              \n",
    "plot(Pop,(t,0,100))\n"
   ]
  },
  {
   "cell_type": "code",
   "execution_count": 34,
   "id": "4bbc7faf",
   "metadata": {},
   "outputs": [
    {
     "name": "stdout",
     "output_type": "stream",
     "text": [
      "the limit of Pop(t) as x approaches infinity where K = 1000 is 1000\n"
     ]
    }
   ],
   "source": [
    "#limit\n",
    "print(f\"the limit of Pop(t) as x approaches infinity where K = {K} is {limit(Pop,t,oo)}\")\n"
   ]
  },
  {
   "cell_type": "markdown",
   "id": "baa2be1a",
   "metadata": {},
   "source": [
    "#### 3b"
   ]
  },
  {
   "cell_type": "code",
   "execution_count": 35,
   "id": "ed50b7a1",
   "metadata": {},
   "outputs": [
    {
     "data": {
      "image/png": "[encoded data removed]",
      "text/plain": [
       "<Figure size 432x288 with 1 Axes>"
      ]
     },
     "metadata": {
      "needs_background": "light"
     },
     "output_type": "display_data"
    },
    {
     "data": {
      "text/plain": [
       "<sympy.plotting.plot.Plot at 0x2bd0c5b1b80>"
      ]
     },
     "execution_count": 35,
     "metadata": {},
     "output_type": "execute_result"
    }
   ],
   "source": [
    "#graph\n",
    "P0 = 10\n",
    "t = Symbol('t')\n",
    "r = .1\n",
    "K = 1\n",
    "\n",
    "Pop = (P0*K)/((P0+(K-P0)*exp(-r*t)))\n",
    "              \n",
    "plot(Pop,(t,0,100))"
   ]
  },
  {
   "cell_type": "code",
   "execution_count": 36,
   "id": "6c67d267",
   "metadata": {},
   "outputs": [
    {
     "name": "stdout",
     "output_type": "stream",
     "text": [
      "the limit of Pop(t) as x approaches infinity where K = 1 is 1\n"
     ]
    }
   ],
   "source": [
    "#limit\n",
    "print(f\"the limit of Pop(t) as x approaches infinity where K = {K} is {limit(Pop,t,oo)}\")"
   ]
  },
  {
   "cell_type": "markdown",
   "id": "f78847a1",
   "metadata": {},
   "source": [
    "#### 3c"
   ]
  },
  {
   "cell_type": "code",
   "execution_count": 37,
   "id": "9fff1823",
   "metadata": {},
   "outputs": [
    {
     "data": {
      "image/png": "[encoded data removed]",
      "text/plain": [
       "<Figure size 432x288 with 1 Axes>"
      ]
     },
     "metadata": {
      "needs_background": "light"
     },
     "output_type": "display_data"
    },
    {
     "data": {
      "text/plain": [
       "<sympy.plotting.plot.Plot at 0x2bd0c7642b0>"
      ]
     },
     "execution_count": 37,
     "metadata": {},
     "output_type": "execute_result"
    }
   ],
   "source": [
    "#graph\n",
    "P0 = 10\n",
    "t = Symbol('t')\n",
    "r = .1\n",
    "K = 15\n",
    "\n",
    "Pop = (P0*K)/((P0+(K-P0)*exp(-r*t)))\n",
    "              \n",
    "plot(Pop,(t,0,100))"
   ]
  },
  {
   "cell_type": "code",
   "execution_count": 38,
   "id": "2d5336e7",
   "metadata": {},
   "outputs": [
    {
     "name": "stdout",
     "output_type": "stream",
     "text": [
      "the limit of Pop(t) as x approaches infinity where K = 15 is 15\n"
     ]
    }
   ],
   "source": [
    "#limit\n",
    "print(f\"the limit of Pop(t) as x approaches infinity where K = {K} is {limit(Pop,t,oo)}\")"
   ]
  },
  {
   "cell_type": "markdown",
   "id": "01baba23",
   "metadata": {},
   "source": [
    "#### 3d"
   ]
  },
  {
   "cell_type": "code",
   "execution_count": 39,
   "id": "311a556a",
   "metadata": {},
   "outputs": [
    {
     "name": "stdout",
     "output_type": "stream",
     "text": [
      "as x approaches infinity Pop(x) approaches K\n"
     ]
    }
   ],
   "source": [
    "#observation on K\n",
    "print(\"as x approaches infinity Pop(x) approaches K\")"
   ]
  },
  {
   "cell_type": "code",
   "execution_count": null,
   "id": "76474588",
   "metadata": {},
   "outputs": [],
   "source": []
  }
 ],
 "metadata": {
  "kernelspec": {
   "display_name": "Python 3 (ipykernel)",
   "language": "python",
   "name": "python3"
  },
  "language_info": {
   "codemirror_mode": {
    "name": "ipython",
    "version": 3
   },
   "file_extension": ".py",
   "mimetype": "text/x-python",
   "name": "python",
   "nbconvert_exporter": "python",
   "pygments_lexer": "ipython3",
   "version": "3.9.12"
  }
 },
 "nbformat": 4,
 "nbformat_minor": 5
}
