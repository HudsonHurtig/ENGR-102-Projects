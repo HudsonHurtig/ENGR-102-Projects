{
 "cells": [
  {
   "cell_type": "markdown",
   "id": "20c00fa5",
   "metadata": {},
   "source": [
    "## MATH 151 Lab  5"
   ]
  },
  {
   "cell_type": "markdown",
   "id": "7c243ef1",
   "metadata": {},
   "source": [
    "Put team members' names and section number here."
   ]
  },
  {
   "cell_type": "code",
   "execution_count": 2,
   "id": "cf836732",
   "metadata": {},
   "outputs": [],
   "source": [
    "from sympy import *\n",
    "from sympy import Symbol, N\n",
    "from sympy.plotting import (plot,plot_parametric)\n",
    "from sympy.plotting import (plot,plot_parametric)"
   ]
  },
  {
   "cell_type": "markdown",
   "id": "3169990f",
   "metadata": {},
   "source": [
    "### Question 1"
   ]
  },
  {
   "cell_type": "markdown",
   "id": "f0561a86",
   "metadata": {},
   "source": [
    "#### 1a"
   ]
  },
  {
   "cell_type": "code",
   "execution_count": 16,
   "id": "0889599a",
   "metadata": {},
   "outputs": [
    {
     "name": "stdout",
     "output_type": "stream",
     "text": [
      "the 1th derrivative of (x**2 + 1)*exp(x) with respect to x is 2*x*exp(x) + (x**2 + 1)*exp(x)\n",
      "the 2th derrivative of (x**2 + 1)*exp(x) with respect to x is (x**2 + 4*x + 3)*exp(x)\n",
      "the 3th derrivative of (x**2 + 1)*exp(x) with respect to x is (x**2 + 6*x + 7)*exp(x)\n",
      "the 4th derrivative of (x**2 + 1)*exp(x) with respect to x is (x**2 + 8*x + 13)*exp(x)\n",
      "the 5th derrivative of (x**2 + 1)*exp(x) with respect to x is (x**2 + 10*x + 21)*exp(x)\n",
      "the 6th derrivative of (x**2 + 1)*exp(x) with respect to x is (x**2 + 12*x + 31)*exp(x)\n",
      "the 7th derrivative of (x**2 + 1)*exp(x) with respect to x is (x**2 + 14*x + 43)*exp(x)\n",
      "the 8th derrivative of (x**2 + 1)*exp(x) with respect to x is (x**2 + 16*x + 57)*exp(x)\n"
     ]
    }
   ],
   "source": [
    "#8 derivatives\n",
    "x = symbols('x')\n",
    "f = exp(x)*(1+x**2)\n",
    "\n",
    "for i in range(1,9):\n",
    "    print(f\"the {i}th derrivative of {f} with respect to x is {diff(f,x,i)}\")"
   ]
  },
  {
   "cell_type": "markdown",
   "id": "efdd616f",
   "metadata": {},
   "source": [
    "#### 1b"
   ]
  },
  {
   "cell_type": "code",
   "execution_count": 6,
   "id": "582449e5",
   "metadata": {},
   "outputs": [
    {
     "name": "stdout",
     "output_type": "stream",
     "text": [
      "the formula for the derrivative of (x**2 + 1)*exp(x) to the nth is: (n**2 + 2*n*x - n + x**2 + 1)*exp(x)\n"
     ]
    }
   ],
   "source": [
    "n = symbols('n')\n",
    "eq = (x**2 + 2*n*x + (n**2-(n-1)))*exp(x)\n",
    "print(f\"the formula for the derrivative of {f} to the nth is: {eq}\")"
   ]
  },
  {
   "cell_type": "markdown",
   "id": "0721fb00",
   "metadata": {},
   "source": [
    "#### 1c"
   ]
  },
  {
   "cell_type": "code",
   "execution_count": 7,
   "id": "dd38ebc1",
   "metadata": {},
   "outputs": [
    {
     "name": "stdout",
     "output_type": "stream",
     "text": [
      "the 50th derrivative of (x**2 + 1)*exp(x) with respect to x is (x**2 + 100*x + 2451)*exp(x)\n",
      "(n**2 + 2*n*x - n + x**2 + 1)*exp(x) where n is substituted for 50 is (x**2 + 100*x + 2451)*exp(x)\n"
     ]
    }
   ],
   "source": [
    "#50th\n",
    "print(f\"the {50}th derrivative of {f} with respect to x is {diff(f,x,50)}\")\n",
    "print(f\"{eq} where n is substituted for 50 is {eq.subs(n,50)}\")"
   ]
  },
  {
   "cell_type": "markdown",
   "id": "8b00f000",
   "metadata": {},
   "source": [
    "### Question 2"
   ]
  },
  {
   "cell_type": "markdown",
   "id": "bacdc1db",
   "metadata": {},
   "source": [
    "#### 2a"
   ]
  },
  {
   "cell_type": "code",
   "execution_count": 21,
   "id": "be2f2c71",
   "metadata": {},
   "outputs": [
    {
     "name": "stdout",
     "output_type": "stream",
     "text": [
      "solutions for the equation 4y′′ + 25y = 0 where y is y = cos(k*x) are: [-5/2, 5/2, pi/(2*x), 3*pi/(2*x)]\n"
     ]
    }
   ],
   "source": [
    "#C values 4y′′ + 25y = 0.\n",
    "k = symbols('k')\n",
    "\n",
    "y = cos(k*x)\n",
    "\n",
    "eq = 4 * diff(y,x,2) + 25 * y\n",
    "\n",
    "\n",
    "print(\"solutions for the equation 4y′′ + 25y = 0 where y is y = cos(k*x) are:\", solve(eq, k))\n",
    "solutions = solve(eq, k)\n",
    "\n",
    "\n"
   ]
  },
  {
   "cell_type": "markdown",
   "id": "23bc68a6",
   "metadata": {},
   "source": [
    "#### 2b"
   ]
  },
  {
   "cell_type": "code",
   "execution_count": 22,
   "id": "357bbf0f",
   "metadata": {},
   "outputs": [
    {
     "name": "stdout",
     "output_type": "stream",
     "text": [
      "roots or solutions to the differential 4y′′ + 25y = 0 where y is a*sin(k*x) + b*cos(k*x) and k is -5/2 is 0\n",
      "roots or solutions to the differential 4y′′ + 25y = 0 where y is a*sin(k*x) + b*cos(k*x) and k is 5/2 is 0\n",
      "roots or solutions to the differential 4y′′ + 25y = 0 where y is a*sin(k*x) + b*cos(k*x) and k is pi/(2*x) is not 0\n",
      "roots or solutions to the differential 4y′′ + 25y = 0 where y is a*sin(k*x) + b*cos(k*x) and k is 3*pi/(2*x) is not 0\n"
     ]
    }
   ],
   "source": [
    "a = symbols('a')\n",
    "b = symbols('b')\n",
    "\n",
    "y = a * sin(k*x) + b * cos(k*x)\n",
    "\n",
    "eq = 4 * diff(y,x,2) + 25 * y\n",
    "\n",
    "for i in solutions:\n",
    "    if eq.subs(k,i) != 0:\n",
    "        print(f\"roots or solutions to the differential 4y′′ + 25y = 0 where y is {y} and k is {i} is not 0\")\n",
    "    else:\n",
    "        print(f\"roots or solutions to the differential 4y′′ + 25y = 0 where y is {y} and k is {i} is {eq.subs(k,i)}\")\n"
   ]
  },
  {
   "cell_type": "markdown",
   "id": "1fb8b9b8",
   "metadata": {},
   "source": [
    "### Question 3"
   ]
  },
  {
   "cell_type": "markdown",
   "id": "ccffd0d0",
   "metadata": {},
   "source": [
    "#### 3a"
   ]
  },
  {
   "cell_type": "code",
   "execution_count": 24,
   "id": "9ebb9309",
   "metadata": {},
   "outputs": [
    {
     "name": "stdout",
     "output_type": "stream",
     "text": [
      "the derrivative of (t - 2)**9/(2*t - 1)**9 is -18*(t - 2)**9/(2*t - 1)**10 + 9*(t - 2)**8/(2*t - 1)**9\n"
     ]
    }
   ],
   "source": [
    "#derivative\n",
    "t = symbols('t')\n",
    "\n",
    "y = ((t - 2)/((2 * t) - 1)) ** 9\n",
    "\n",
    "print(f\"the derrivative of {y} is {diff(y,t)}\")"
   ]
  },
  {
   "cell_type": "markdown",
   "id": "baa2be1a",
   "metadata": {},
   "source": [
    "#### 3b"
   ]
  },
  {
   "cell_type": "code",
   "execution_count": 25,
   "id": "ed50b7a1",
   "metadata": {},
   "outputs": [
    {
     "name": "stdout",
     "output_type": "stream",
     "text": [
      "the simplified derrivative of (t - 2)**9/(2*t - 1)**9 is 27*(t - 2)**8/(2*t - 1)**10\n"
     ]
    }
   ],
   "source": [
    "#simplify\n",
    "\n",
    "y = ((t - 2)/((2 * t) - 1)) ** 9\n",
    "yPrime = (27 * (t - 2)**8/((2 * t) - 1)**10)\n",
    "\n",
    "print(f\"the simplified derrivative of {y} is {yPrime}\")"
   ]
  },
  {
   "cell_type": "markdown",
   "id": "f78847a1",
   "metadata": {},
   "source": [
    "#### 3c"
   ]
  },
  {
   "cell_type": "code",
   "execution_count": 54,
   "id": "9fff1823",
   "metadata": {},
   "outputs": [
    {
     "name": "stdout",
     "output_type": "stream",
     "text": [
      "the derrivative of (2*t + 1)**5*(t**2 - t + 2)**4 is (2*t + 1)**5*(8*t - 4)*(t**2 - t + 2)**3 + 10*(2*t + 1)**4*(t**2 - t + 2)**4\n",
      "the horizontal tangent of (2*t + 1)**5*(8*t - 4)*(t**2 - t + 2)**3 + 10*(2*t + 1)**4*(t**2 - t + 2)**4 is -1/2\n"
     ]
    }
   ],
   "source": [
    "#derivative\n",
    "\n",
    "t = symbols('t')\n",
    "\n",
    "y = (2*t + 1)**5 * (t**2 - t + 2)**4\n",
    "\n",
    "print(f\"the derrivative of {y} is {diff(y,t)}\")\n",
    "\n",
    "print(f\"the horizontal tangent of {d} is {solve(d,t)[0]}\")\n"
   ]
  },
  {
   "cell_type": "markdown",
   "id": "ded46854",
   "metadata": {},
   "source": [
    "#### 3d"
   ]
  },
  {
   "cell_type": "code",
   "execution_count": 53,
   "id": "629e860f",
   "metadata": {},
   "outputs": [
    {
     "name": "stdout",
     "output_type": "stream",
     "text": [
      "the simplified derrivative of (2*t + 1)**5*(t**2 - t + 2)**4 is (2*t + 1)**4*(t**2 - t + 2)**3*(10*t**2 - 10*t + 4*(2*t - 1)*(2*t + 1) + 20)\n"
     ]
    }
   ],
   "source": [
    "#simplify\n",
    "t = symbols('t')\n",
    "\n",
    "y = (2*t + 1)**5 * (t**2 - t + 2)**4\n",
    "\n",
    "d = diff(y,t)\n",
    "\n",
    "print(f\"the simplified derrivative of {y} is {simplify(d)}\")\n"
   ]
  },
  {
   "cell_type": "markdown",
   "id": "bba9a046",
   "metadata": {},
   "source": [
    "#### 3e"
   ]
  },
  {
   "cell_type": "code",
   "execution_count": 55,
   "id": "9fec14c5",
   "metadata": {},
   "outputs": [
    {
     "name": "stdout",
     "output_type": "stream",
     "text": [
      "the factored derrivative of (2*t + 1)**5*(t**2 - t + 2)**4 is 2*(2*t + 1)**4*(t**2 - t + 2)**3*(13*t**2 - 5*t + 8)\n",
      "[-1/2, 5/26 - sqrt(391)*I/26, 5/26 + sqrt(391)*I/26, 1/2 - sqrt(7)*I/2, 1/2 + sqrt(7)*I/2]\n"
     ]
    }
   ],
   "source": [
    "#factor\n",
    "t = symbols('t')\n",
    "\n",
    "y = (2*t + 1)**5 * (t**2 - t + 2)**4\n",
    "\n",
    "f =factor(diff(y,t))\n",
    "\n",
    "print(f\"the factored derrivative of {y} is {f}\")"
   ]
  },
  {
   "cell_type": "markdown",
   "id": "7eb41f76",
   "metadata": {},
   "source": [
    "#### 3f"
   ]
  },
  {
   "cell_type": "code",
   "execution_count": 56,
   "id": "c267bbc0",
   "metadata": {},
   "outputs": [
    {
     "name": "stdout",
     "output_type": "stream",
     "text": [
      "it would be easiest to use the factored form since each factor provides a zero-able solution, in this case again the only zero would be -1/2\n"
     ]
    }
   ],
   "source": [
    "print(\"it would be easiest to use the factored form since each factor provides a zero-able solution, in this case again the only zero would be -1/2\")"
   ]
  },
  {
   "cell_type": "markdown",
   "id": "f9fde57e",
   "metadata": {},
   "source": [
    "### Question 4"
   ]
  },
  {
   "cell_type": "markdown",
   "id": "7e54bb48",
   "metadata": {},
   "source": [
    "#### 4a"
   ]
  },
  {
   "cell_type": "code",
   "execution_count": 4,
   "id": "3ce0b4af",
   "metadata": {},
   "outputs": [
    {
     "name": "stdout",
     "output_type": "stream",
     "text": [
      "the rate of change of F with respect to theta is W*u*(-u*cos(theta) + sin(theta))/(u*sin(theta) + cos(theta))**2\n"
     ]
    }
   ],
   "source": [
    "#ROC \n",
    "\n",
    "u = symbols('u')\n",
    "W = symbols('W')\n",
    "theta = symbols('theta')\n",
    "\n",
    "F = (u*W)/(u*sin(theta) + cos(theta))\n",
    "\n",
    "Fprime = diff(F,theta)\n",
    "\n",
    "print(f\"the rate of change of F with respect to theta is {Fprime}\")"
   ]
  },
  {
   "cell_type": "markdown",
   "id": "cd9781f6",
   "metadata": {},
   "source": [
    "#### 4b"
   ]
  },
  {
   "cell_type": "code",
   "execution_count": 63,
   "id": "918804cf",
   "metadata": {},
   "outputs": [
    {
     "name": "stdout",
     "output_type": "stream",
     "text": [
      "the rate of change of F with respect to theta is at theta = 0 is -W*u**2\n"
     ]
    }
   ],
   "source": [
    "#ROC = 0\n",
    "\n",
    "print(f\"the rate of change of F with respect to theta is at theta = 0 is {Fprime.subs(theta,0)}\")"
   ]
  },
  {
   "cell_type": "markdown",
   "id": "f4a58c47",
   "metadata": {},
   "source": [
    "#### 4c"
   ]
  },
  {
   "cell_type": "code",
   "execution_count": 9,
   "id": "8bda340d",
   "metadata": {},
   "outputs": [
    {
     "name": "stdout",
     "output_type": "stream",
     "text": [
      "estimate that force is equal to zero just somewhere just over 2\n"
     ]
    },
    {
     "data": {
      "image/png": "[encoded data removed]",
      "text/plain": [
       "<Figure size 432x288 with 1 Axes>"
      ]
     },
     "metadata": {
      "needs_background": "light"
     },
     "output_type": "display_data"
    },
    {
     "data": {
      "text/plain": [
       "<sympy.plotting.plot.Plot at 0x1ce77ac0ca0>"
      ]
     },
     "execution_count": 9,
     "metadata": {},
     "output_type": "execute_result"
    }
   ],
   "source": [
    "#graph\n",
    "\n",
    "u = symbols('u')\n",
    "W = symbols('W')\n",
    "theta = symbols('theta')\n",
    "\n",
    "F = (.6*100)/(.6*sin(theta) + cos(theta))\n",
    "\n",
    "print(\"estimate that force is equal to zero just somewhere just over 2\")\n",
    "\n",
    "plot((F,(theta,-3.14,3.14)))"
   ]
  },
  {
   "cell_type": "markdown",
   "id": "3c94da4c",
   "metadata": {},
   "source": [
    "#### 4d"
   ]
  },
  {
   "cell_type": "code",
   "execution_count": 8,
   "id": "dacc44c7",
   "metadata": {},
   "outputs": [
    {
     "name": "stdout",
     "output_type": "stream",
     "text": [
      "the areas where the slope is equal to zero are where theata equals [0.540419500270584]\n"
     ]
    }
   ],
   "source": [
    "#verify (c)\n",
    "theta = symbols('theta')\n",
    "\n",
    "F = (.6*100)/(.6*sin(theta) + cos(theta))\n",
    "Fprime = diff(F,theta)\n",
    "\n",
    "print(\"the areas where the slope is equal to zero are where theata equals\", solve(Fprime, theta))\n"
   ]
  },
  {
   "cell_type": "code",
   "execution_count": null,
   "id": "df2ea9cc",
   "metadata": {},
   "outputs": [],
   "source": []
  }
 ],
 "metadata": {
  "kernelspec": {
   "display_name": "Python 3 (ipykernel)",
   "language": "python",
   "name": "python3"
  },
  "language_info": {
   "codemirror_mode": {
    "name": "ipython",
    "version": 3
   },
   "file_extension": ".py",
   "mimetype": "text/x-python",
   "name": "python",
   "nbconvert_exporter": "python",
   "pygments_lexer": "ipython3",
   "version": "3.9.12"
  }
 },
 "nbformat": 4,
 "nbformat_minor": 5
}
