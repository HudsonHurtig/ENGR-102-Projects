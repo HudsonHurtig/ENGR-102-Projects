{
 "cells": [
  {
   "cell_type": "markdown",
   "id": "20c00fa5",
   "metadata": {},
   "source": [
    "## MATH 151 Lab  2"
   ]
  },
  {
   "cell_type": "markdown",
   "id": "7c243ef1",
   "metadata": {},
   "source": [
    "Put team members' names and section number here."
   ]
  },
  {
   "cell_type": "code",
   "execution_count": 1,
   "id": "cf836732",
   "metadata": {},
   "outputs": [],
   "source": [
    "from sympy import *\n",
    "from sympy.solvers import solve\n",
    "from sympy import Symbol\n",
    "from sympy.plotting import (plot,plot_parametric)"
   ]
  },
  {
   "cell_type": "markdown",
   "id": "3169990f",
   "metadata": {},
   "source": [
    "### Question 1"
   ]
  },
  {
   "cell_type": "markdown",
   "id": "f0561a86",
   "metadata": {},
   "source": [
    "#### 1a"
   ]
  },
  {
   "cell_type": "code",
   "execution_count": 2,
   "id": "cbfab3f6",
   "metadata": {},
   "outputs": [
    {
     "name": "stdout",
     "output_type": "stream",
     "text": [
      "Exact form [-3/2 - sqrt(5)/2, -3/2 + sqrt(5)/2]\n",
      "Approximate form [-2.61803398874989, -0.381966011250105]\n"
     ]
    }
   ],
   "source": [
    "#start code here\n",
    "x = Symbol('x')\n",
    "f = 1 + x*(x+1)*(x+2)*(x+3)\n",
    "l = solve(f)\n",
    "print(\"Exact form\",l)\n",
    "print(\"Approximate form\",[i.evalf() for i in l])"
   ]
  },
  {
   "cell_type": "markdown",
   "id": "efdd616f",
   "metadata": {},
   "source": [
    "#### 1b"
   ]
  },
  {
   "cell_type": "code",
   "execution_count": 3,
   "id": "6fd5ac31",
   "metadata": {},
   "outputs": [
    {
     "name": "stdout",
     "output_type": "stream",
     "text": [
      "Expanded form: x**4 + 6*x**3 + 11*x**2 + 6*x + 1\n"
     ]
    }
   ],
   "source": [
    "print(\"Expanded form:\",f.expand())"
   ]
  },
  {
   "cell_type": "markdown",
   "id": "b4d3d3ac",
   "metadata": {},
   "source": [
    "#### 1c"
   ]
  },
  {
   "cell_type": "code",
   "execution_count": 4,
   "id": "a08b7797",
   "metadata": {},
   "outputs": [
    {
     "name": "stdout",
     "output_type": "stream",
     "text": [
      "Factored form (x**2 + 3*x + 1)**2\n"
     ]
    }
   ],
   "source": [
    "print(\"Factored form\",f.factor())"
   ]
  },
  {
   "cell_type": "markdown",
   "id": "8111d61d",
   "metadata": {},
   "source": [
    "#### 1d"
   ]
  },
  {
   "cell_type": "code",
   "execution_count": 5,
   "id": "afbad488",
   "metadata": {},
   "outputs": [
    {
     "data": {
      "image/png": "[encoded data removed]",
      "text/plain": [
       "<Figure size 432x288 with 1 Axes>"
      ]
     },
     "metadata": {
      "needs_background": "light"
     },
     "output_type": "display_data"
    },
    {
     "data": {
      "text/plain": [
       "<sympy.plotting.plot.Plot at 0x2306ace97c0>"
      ]
     },
     "execution_count": 5,
     "metadata": {},
     "output_type": "execute_result"
    }
   ],
   "source": [
    "plot(f,(x,-5,1))\n"
   ]
  },
  {
   "cell_type": "markdown",
   "id": "8b00f000",
   "metadata": {},
   "source": [
    "### Question 2"
   ]
  },
  {
   "cell_type": "markdown",
   "id": "bacdc1db",
   "metadata": {},
   "source": [
    "#### 2a"
   ]
  },
  {
   "cell_type": "code",
   "execution_count": 6,
   "id": "be2f2c71",
   "metadata": {},
   "outputs": [
    {
     "name": "stdout",
     "output_type": "stream",
     "text": [
      "the textbook hits the ground at t =  1.10656667034498 seconds\n"
     ]
    }
   ],
   "source": [
    "#start code here\n",
    "t = Symbol('t')\n",
    "g = 9.8\n",
    "hi = 6\n",
    "fa = -.5*g*(t**2)+hi\n",
    "l = solve(fa)\n",
    "print(\"the textbook hits the ground at t = \", [i for i in l if i > 0][0], \"seconds\")"
   ]
  },
  {
   "cell_type": "markdown",
   "id": "23bc68a6",
   "metadata": {},
   "source": [
    "#### 2b"
   ]
  },
  {
   "cell_type": "code",
   "execution_count": 7,
   "id": "357bbf0f",
   "metadata": {},
   "outputs": [
    {
     "name": "stdout",
     "output_type": "stream",
     "text": [
      "with an the textbook hits the ground at t =  1.21873095569557 seconds\n"
     ]
    }
   ],
   "source": [
    "#start code here\n",
    "t = Symbol('t')\n",
    "g = 9.8\n",
    "hi = 6\n",
    "R = 2\n",
    "fb = (-1*g*t)-(R*g*exp(-t/R))+(R*g)+hi/R\n",
    "l = solve(fb)\n",
    "print(\"with an the textbook hits the ground at t = \", [i for i in l if i > 0][0], \"seconds\")"
   ]
  },
  {
   "cell_type": "markdown",
   "id": "d4c7adb9",
   "metadata": {},
   "source": [
    "#### 2c"
   ]
  },
  {
   "cell_type": "code",
   "execution_count": 8,
   "id": "e20a3063",
   "metadata": {},
   "outputs": [
    {
     "data": {
      "image/png": "[encoded data removed]",
      "text/plain": [
       "<Figure size 432x288 with 1 Axes>"
      ]
     },
     "metadata": {
      "needs_background": "light"
     },
     "output_type": "display_data"
    }
   ],
   "source": [
    "#start code here\n",
    "t = Symbol('t')\n",
    "g = 9.8\n",
    "hi = 6\n",
    "R = 2\n",
    "fb = (-R*g*t)-(R**2*g*exp(-t/R))+(R**2*g)+hi\n",
    "fa = -.5*g*(t**2)+hi\n",
    "fabplot = plot((fa,(t,0,3)),(fb,(t,0,3)))"
   ]
  },
  {
   "cell_type": "markdown",
   "id": "1fb8b9b8",
   "metadata": {},
   "source": [
    "### Question 3"
   ]
  },
  {
   "cell_type": "markdown",
   "id": "ccffd0d0",
   "metadata": {},
   "source": [
    "#### 3a"
   ]
  },
  {
   "cell_type": "code",
   "execution_count": 9,
   "id": "9ebb9309",
   "metadata": {},
   "outputs": [
    {
     "data": {
      "image/png": "[encoded data removed]",
      "text/plain": [
       "<Figure size 432x288 with 1 Axes>"
      ]
     },
     "metadata": {
      "needs_background": "light"
     },
     "output_type": "display_data"
    }
   ],
   "source": [
    "#start code here\n",
    "xt1 = sin(2*t)\n",
    "yt1 = cos(t)\n",
    "xt2 = 3*sin(2*t)\n",
    "yt2 = cos(t)\n",
    "xt3 = sin(3*t)\n",
    "yt3 = 2*cos(t)\n",
    "paraplot = plot_parametric((xt1,yt1,(t,0,4*pi)),(xt2,yt2,(t,0,4*pi)),(xt3,yt3,(t,0,4*pi)))"
   ]
  },
  {
   "cell_type": "markdown",
   "id": "baa2be1a",
   "metadata": {},
   "source": [
    "#### 3b"
   ]
  },
  {
   "cell_type": "code",
   "execution_count": 10,
   "id": "6c67d267",
   "metadata": {},
   "outputs": [
    {
     "name": "stdout",
     "output_type": "stream",
     "text": [
      " a affects the horizontal width of the parametric curve\n",
      " b affects the vertical height of the parametric curve\n",
      " n affects the number of times parametric curve crosses the y axis\n"
     ]
    }
   ],
   "source": [
    "#start code here\n",
    "print(\" a affects the horizontal width of the parametric curve\")\n",
    "print(\" b affects the vertical height of the parametric curve\")\n",
    "print(\" n affects the number of times parametric curve crosses the y axis\")"
   ]
  },
  {
   "cell_type": "code",
   "execution_count": null,
   "id": "ab15da0b",
   "metadata": {},
   "outputs": [],
   "source": []
  }
 ],
 "metadata": {
  "kernelspec": {
   "display_name": "Python 3 (ipykernel)",
   "language": "python",
   "name": "python3"
  },
  "language_info": {
   "codemirror_mode": {
    "name": "ipython",
    "version": 3
   },
   "file_extension": ".py",
   "mimetype": "text/x-python",
   "name": "python",
   "nbconvert_exporter": "python",
   "pygments_lexer": "ipython3",
   "version": "3.9.12"
  }
 },
 "nbformat": 4,
 "nbformat_minor": 5
}
