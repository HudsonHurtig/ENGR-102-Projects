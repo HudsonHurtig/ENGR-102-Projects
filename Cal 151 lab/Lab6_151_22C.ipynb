{
 "cells": [
  {
   "cell_type": "markdown",
   "id": "20c00fa5",
   "metadata": {},
   "source": [
    "## MATH 151 Lab  6"
   ]
  },
  {
   "cell_type": "markdown",
   "id": "7c243ef1",
   "metadata": {},
   "source": [
    "Carson Kjar,\n",
    "Ashton Isaac Hull,\n",
    "Jax Colby Lanie,\n",
    "Hudson Hurtig\n",
    "\n",
    "section 525\n"
   ]
  },
  {
   "cell_type": "code",
   "execution_count": 22,
   "id": "cf836732",
   "metadata": {},
   "outputs": [],
   "source": [
    "from sympy import *\n",
    "from sympy import Symbol, N\n",
    "from sympy.plotting import (plot,plot_parametric)\n",
    "from sympy.plotting import (plot,plot_parametric)"
   ]
  },
  {
   "cell_type": "markdown",
   "id": "3169990f",
   "metadata": {},
   "source": [
    "### Question 1"
   ]
  },
  {
   "cell_type": "markdown",
   "id": "f0561a86",
   "metadata": {},
   "source": [
    "#### 1a"
   ]
  },
  {
   "cell_type": "code",
   "execution_count": 9,
   "id": "0889599a",
   "metadata": {},
   "outputs": [
    {
     "name": "stdout",
     "output_type": "stream",
     "text": [
      "solutions to the equation 2y''+y'- y = 0 are [-1, 1/2]  thus there are no solutions to the problem\n"
     ]
    }
   ],
   "source": [
    "x = symbols('x')\n",
    "r = symbols('r')\n",
    "\n",
    "y = exp(r*x)\n",
    "\n",
    "yPrime = diff(y,x)\n",
    "\n",
    "yDoublePrime = diff(y,x,2)\n",
    "\n",
    "a = 2*yDoublePrime + yPrime - y \n",
    "\n",
    "\n",
    "print(\"solutions to the equation 2y''+y'- y = 0 are\", solve(a,r))"
   ]
  },
  {
   "cell_type": "markdown",
   "id": "efdd616f",
   "metadata": {},
   "source": [
    "#### 1b"
   ]
  },
  {
   "cell_type": "code",
   "execution_count": 11,
   "id": "582449e5",
   "metadata": {},
   "outputs": [
    {
     "name": "stdout",
     "output_type": "stream",
     "text": [
      "solutions to the equation y''+6y'+ 10y = 0 are [-3 - I, -3 + I]\n"
     ]
    }
   ],
   "source": [
    "b = yDoublePrime + 6*yPrime + 10*y \n",
    "    \n",
    "print(\"solutions to the equation y''+6y'+ 10y = 0 are\", solve(b,r))"
   ]
  },
  {
   "cell_type": "markdown",
   "id": "0721fb00",
   "metadata": {},
   "source": [
    "#### 1c"
   ]
  },
  {
   "cell_type": "code",
   "execution_count": 13,
   "id": "dd38ebc1",
   "metadata": {},
   "outputs": [
    {
     "name": "stdout",
     "output_type": "stream",
     "text": [
      "solutions to the equation y''+6y'+ 10y = 0 are []\n"
     ]
    }
   ],
   "source": [
    "y = exp(-3*x)*(cos(x)+sin(x))\n",
    "\n",
    "yPrime = diff(y,x)\n",
    "\n",
    "yDoublePrime = diff(y,x,2)\n",
    "\n",
    "b = yDoublePrime + 6*yPrime + 10*y \n",
    "\n",
    "print(\"solutions to the equation y''+6y'+ 10y = 0 are\", solve(b,x), \" thus there are no real solutions for b or c\")\n",
    "\n"
   ]
  },
  {
   "cell_type": "markdown",
   "id": "8b00f000",
   "metadata": {},
   "source": [
    "### Question 2"
   ]
  },
  {
   "cell_type": "markdown",
   "id": "bacdc1db",
   "metadata": {},
   "source": [
    "#### 2a"
   ]
  },
  {
   "cell_type": "code",
   "execution_count": 88,
   "id": "be2f2c71",
   "metadata": {},
   "outputs": [
    {
     "name": "stdout",
     "output_type": "stream",
     "text": [
      "the equation in exact form tangent to the point of the equation at t = pi/6 is y = -sqrt(3)*(x - E)*exp(-1)*exp(sqrt(3)/2)/6 - exp(sqrt(3)/2)\n",
      "the equation in decimal form tangent to the point of the equation at t = pi/6 is y = -0.252478818450665*x - 1.69113409097091\n"
     ]
    }
   ],
   "source": [
    "t = symbols('t')\n",
    "\n",
    "vx = exp(2*sin(t))\n",
    "vy = exp(cos(t))\n",
    "\n",
    "vxPrime = diff(vx,t)\n",
    "vyPrime = diff(vy,t)\n",
    "\n",
    "slope = vyPrime/vxPrime\n",
    "\n",
    "\n",
    "print(\"the equation in exact form tangent to the point of the equation at t = pi/6 is y =\", slope.subs(t,pi/6)*(x-vx.subs(t,pi/6))-vy.subs(t,pi/6))\n",
    "\n",
    "print(\"the equation in decimal form tangent to the point of the equation at t = pi/6 is y =\", N(slope.subs(t,pi/6)*(x-vx.subs(t,pi/6))-vy.subs(t,pi/6)))\n",
    "\n"
   ]
  },
  {
   "cell_type": "markdown",
   "id": "23bc68a6",
   "metadata": {},
   "source": [
    "#### 2b"
   ]
  },
  {
   "cell_type": "code",
   "execution_count": 89,
   "id": "357bbf0f",
   "metadata": {},
   "outputs": [
    {
     "name": "stdout",
     "output_type": "stream",
     "text": [
      "the slope line is vertical when the slope approaches anyrealnumber/0\n",
      "thus points where the slope line is vertical are where t = [pi/2, 3*pi/2]\n",
      "\n",
      "the slope line is horizontal when the slope is 0/anyrealnumber\n",
      "thus the points where the slope line is horizontal are where t = [0, pi]\n"
     ]
    }
   ],
   "source": [
    "print(\"the slope line is vertical when the slope approaches anyrealnumber/0\")\n",
    "print(\"thus points where the slope line is vertical are where t =\", solve(vxPrime,t))\n",
    "print(\"\")\n",
    "print(\"the slope line is horizontal when the slope is 0/anyrealnumber\")\n",
    "print(\"thus the points where the slope line is horizontal are where t =\", solve(vyPrime,t))"
   ]
  },
  {
   "cell_type": "markdown",
   "id": "94eb2168",
   "metadata": {},
   "source": [
    "#### 2c"
   ]
  },
  {
   "cell_type": "code",
   "execution_count": 101,
   "id": "25fa3475",
   "metadata": {},
   "outputs": [
    {
     "data": {
      "image/png": "[encoded data removed]",
      "text/plain": [
       "<Figure size 432x288 with 1 Axes>"
      ]
     },
     "metadata": {
      "needs_background": "light"
     },
     "output_type": "display_data"
    },
    {
     "data": {
      "text/plain": [
       "<sympy.plotting.plot.Plot at 0x2b06a46f100>"
      ]
     },
     "execution_count": 101,
     "metadata": {},
     "output_type": "execute_result"
    }
   ],
   "source": [
    "plot_parametric((vx, vy, (t,0,2*pi)), (exp(2),t,(t,0,3)), (exp(-2),t,(t,0,3)),(t,exp(cos(0)),(t,0,8)), (t,exp(cos(pi)),(t,0,8)))\n"
   ]
  },
  {
   "cell_type": "markdown",
   "id": "1fb8b9b8",
   "metadata": {},
   "source": [
    "### Question 3"
   ]
  },
  {
   "cell_type": "markdown",
   "id": "ccffd0d0",
   "metadata": {},
   "source": [
    "#### 3a"
   ]
  },
  {
   "cell_type": "code",
   "execution_count": 4,
   "id": "9ebb9309",
   "metadata": {},
   "outputs": [
    {
     "data": {
      "image/png": "[encoded data removed]",
      "text/plain": [
       "<Figure size 432x288 with 1 Axes>"
      ]
     },
     "metadata": {
      "needs_background": "light"
     },
     "output_type": "display_data"
    }
   ],
   "source": [
    "y = symbols('y', real=True)\n",
    "\n",
    "x = symbols('x', real=True)\n",
    "\n",
    "eqn = (-((x**2 + y**2)/4) + (2*x)-2)**2  - 5*(x**2 + y**2)\n",
    "\n",
    "pcurve=plot_implicit(eqn,(x,-5,20),(y,-15,15))"
   ]
  },
  {
   "cell_type": "markdown",
   "id": "baa2be1a",
   "metadata": {},
   "source": [
    "#### 3b"
   ]
  },
  {
   "cell_type": "code",
   "execution_count": 5,
   "id": "ed50b7a1",
   "metadata": {},
   "outputs": [
    {
     "name": "stdout",
     "output_type": "stream",
     "text": [
      "dy/dx of the equation graphed above is: (-x**3 + 12*x**2 - x*y**2 + 4*y**2 + 32)/(y*(x**2 - 8*x + y**2 - 32))\n"
     ]
    }
   ],
   "source": [
    "eqnPrime = idiff(eqn,y,x)\n",
    "\n",
    "eqnPrime = simplify(eqnPrime)\n",
    "\n",
    "print(\"dy/dx of the equation graphed above is:\", eqnPrime)"
   ]
  },
  {
   "cell_type": "markdown",
   "id": "e7e04f9d",
   "metadata": {},
   "source": [
    "#### 3c"
   ]
  },
  {
   "cell_type": "code",
   "execution_count": 11,
   "id": "d3cb4575",
   "metadata": {},
   "outputs": [
    {
     "name": "stdout",
     "output_type": "stream",
     "text": [
      "the slope line is vertical when the slope approaches anyrealnumber/0\n",
      "thus points where the slope line is vertical are where x = [(-1.50000000000000, -4.21307488658818), (-1.50000000000000, 4.21307488658818), (0.486080130000819, 0.0), (16.4581917799983, 0.0)]\n",
      "\n",
      "the slope line is horizontal when the slope is 0/anyrealnumber\n",
      "thus the points where the slope line is horizontal are where y = [(-10.6473087586551, 6.26905898780519), (10.6473087586551, 6.26905898780519)]\n"
     ]
    }
   ],
   "source": [
    "num = numer(eqnPrime)\n",
    "den = denom(eqnPrime)\n",
    "\n",
    "\n",
    "\n",
    "vert = solve([den.evalf(),eqn],[x,y])\n",
    "\n",
    "hori = solve([num.evalf(),eqn],[y,x])\n",
    "\n",
    "\n",
    "print(\"the slope line is vertical when the slope approaches anyrealnumber/0\")\n",
    "print(\"thus points where the slope line is vertical are where x =\", [i for i in vert])\n",
    "print(\"\")\n",
    "print(\"the slope line is horizontal when the slope is 0/anyrealnumber\")\n",
    "print(\"thus the points where the slope line is horizontal are where y =\", [i for i in hori])"
   ]
  },
  {
   "cell_type": "markdown",
   "id": "f78847a1",
   "metadata": {},
   "source": [
    "#### 3d"
   ]
  },
  {
   "cell_type": "code",
   "execution_count": 18,
   "id": "9fff1823",
   "metadata": {},
   "outputs": [
    {
     "data": {
      "image/png": "[encoded data removed]",
      "text/plain": [
       "<Figure size 432x288 with 1 Axes>"
      ]
     },
     "metadata": {
      "needs_background": "light"
     },
     "output_type": "display_data"
    }
   ],
   "source": [
    "pcurve=plot_implicit(eqn,(x,-5,20),(y,-15,15),show=False)\n",
    "# Using parametric equations to plot horizontal and vertical lines: x=#, y=t␣,→NEED TO SYMBOLICALLY DEFINE t FIRST!!!\n",
    "t=symbols('t')\n",
    "phoriz=plot_parametric(\n",
    "    \n",
    "    (vert[0][0],t,(t,-15,15)),\n",
    "    (vert[1][0],t,(t,-15,15)),\n",
    "    (vert[2][0],t,(t,-15,15)),\n",
    "    (vert[3][0],t,(t,-15,15)),\n",
    "    \n",
    "    show=False)\n",
    "# Both of these CAN be combined into one plot_parametric command if you want\n",
    "pvert=plot_parametric(\n",
    "    \n",
    "    (t,hori[0][0],(t,-5,20)),\n",
    "    (t,hori[1][0],(t,-5,20)),\n",
    "    \n",
    "    show=False)\n",
    "pcurve.extend(phoriz)\n",
    "pcurve.extend(pvert)\n",
    "pcurve.show()"
   ]
  },
  {
   "cell_type": "markdown",
   "id": "f9fde57e",
   "metadata": {},
   "source": [
    "### Question 4"
   ]
  },
  {
   "cell_type": "markdown",
   "id": "7e54bb48",
   "metadata": {},
   "source": [
    "#### 4a"
   ]
  },
  {
   "cell_type": "code",
   "execution_count": 48,
   "id": "3ce0b4af",
   "metadata": {},
   "outputs": [
    {
     "name": "stdout",
     "output_type": "stream",
     "text": [
      "logarithmic differentiation  finds the derrivative to be: x**1.5*sqrt(x**3 + 1)*(3*x**2/(2*(x**3 + 1)) + 28/(2 - 7*x) + 1.5/x)/(2 - 7*x)**4\n",
      "-0.00536*sqrt(2) \n",
      " \n",
      " -0.00536*sqrt(2)\n"
     ]
    }
   ],
   "source": [
    "y = symbols('y', real=True)\n",
    "x = symbols('x', real=True)\n",
    "\n",
    "y = (x**1.5*sqrt(x**3+1))/(2-7*x)**4\n",
    "\n",
    "expy = expand_log(log(y),force=True)\n",
    "\n",
    "logder = y * diff(expy)\n",
    "der = diff(y)\n",
    "\n",
    "print(\"logarithmic differentiation  finds the derrivative to be:\", logder)\n",
    "\n"
   ]
  },
  {
   "cell_type": "markdown",
   "id": "cd9781f6",
   "metadata": {},
   "source": [
    "#### 4b"
   ]
  },
  {
   "cell_type": "code",
   "execution_count": 47,
   "id": "918804cf",
   "metadata": {},
   "outputs": [
    {
     "name": "stdout",
     "output_type": "stream",
     "text": [
      "direct differentiation finds the derrivative to be 1.5*x**0.5*sqrt(x**3 + 1)/(2 - 7*x)**4 + 28*x**1.5*sqrt(x**3 + 1)/(2 - 7*x)**5 + 3*x**3.5/(2*(2 - 7*x)**4*sqrt(x**3 + 1))\n"
     ]
    }
   ],
   "source": [
    "print(\"direct differentiation finds the derrivative to be:\", der)"
   ]
  },
  {
   "cell_type": "markdown",
   "id": "f4a58c47",
   "metadata": {},
   "source": [
    "#### 4c"
   ]
  },
  {
   "cell_type": "code",
   "execution_count": 55,
   "id": "8bda340d",
   "metadata": {},
   "outputs": [
    {
     "name": "stdout",
     "output_type": "stream",
     "text": [
      "although they appear different, when we substitute for x = 1 we find that they output the same thing:\n",
      "\n",
      " -0.00536*sqrt(2) \n",
      " \n",
      " -0.00536*sqrt(2)\n",
      "\n",
      "\n",
      "alternatively we see that when we subtract the equations from eachother they equal zero 0\n"
     ]
    }
   ],
   "source": [
    "print(\"although they appear different, when we substitute for x = 1 we find that they output the same thing:\\n\\n\",logder.subs(x,1),\"\\n \\n\", der.subs(x,1))\n",
    "\n",
    "print(\"\\n\\nalternatively we see that when we subtract the equations from eachother they equal zero\", simplify(logder-der))"
   ]
  },
  {
   "cell_type": "code",
   "execution_count": null,
   "id": "a8335c7c",
   "metadata": {},
   "outputs": [],
   "source": []
  }
 ],
 "metadata": {
  "kernelspec": {
   "display_name": "Python 3 (ipykernel)",
   "language": "python",
   "name": "python3"
  },
  "language_info": {
   "codemirror_mode": {
    "name": "ipython",
    "version": 3
   },
   "file_extension": ".py",
   "mimetype": "text/x-python",
   "name": "python",
   "nbconvert_exporter": "python",
   "pygments_lexer": "ipython3",
   "version": "3.9.12"
  }
 },
 "nbformat": 4,
 "nbformat_minor": 5
}
